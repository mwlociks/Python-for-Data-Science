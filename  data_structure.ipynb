{
 "cells": [
  {
   "cell_type": "markdown",
   "metadata": {},
   "source": [
    "## Data structure exercises"
   ]
  },
  {
   "cell_type": "markdown",
   "metadata": {},
   "source": [
    "### Exercise 1.\n",
    "\n",
    "You have a tuple called fair. The fair contains: banana, pear, potato, grape, onion, garlic and sugar.\n",
    "\n",
    "Your boss sent you to the fair, and asked you to buy these products, one of them can't be bought there, remove it from the list. On the way he called you and sent you to buy apples and carrots.\n",
    "\n",
    "It is mega boring, and ordered you to separate it in two bags, which is fruit and vegetable and deliver everything in order."
   ]
  },
  {
   "cell_type": "code",
   "execution_count": 13,
   "metadata": {},
   "outputs": [
    {
     "name": "stdout",
     "output_type": "stream",
     "text": [
      "Bag with fruits:  ['banana', 'pear', 'grape']\n",
      "Bag with vegetables:  ['potato', 'onion', 'garlic']\n"
     ]
    }
   ],
   "source": [
    "fair = \"banana\", \"pear\", \"potato\", \"grape\", \"onion\", \"garlic\", \"sugar\"\n",
    "fair = list(fair)\n",
    "\n",
    "# Assuming that \"sugar\" is the item which could not be bought in the fair, we remove it from the list\n",
    "fair.remove(\"sugar\")\n",
    "\n",
    "#Separating the item into two different bags: fruits and vegetables\n",
    "fruits = [fair[0], fair[1], fair[3]]\n",
    "vegetables = [fair[2], fair[4], fair[5]]\n",
    "\n",
    "print(\"Bag with fruits: \",fruits)\n",
    "print(\"Bag with vegetables: \",vegetables)"
   ]
  },
  {
   "cell_type": "markdown",
   "metadata": {},
   "source": [
    "### Exercise 2.\n",
    "List: (4,5,3,4,56,3,2,31,1,7,8,9,0,234,7,8,9). Order the list to show the repeated values."
   ]
  },
  {
   "cell_type": "code",
   "execution_count": 23,
   "metadata": {},
   "outputs": [
    {
     "data": {
      "text/plain": [
       "[0, 1, 2, 3, 3, 4, 4, 5, 7, 7, 8, 8, 9, 9, 31, 56, 234]"
      ]
     },
     "execution_count": 23,
     "metadata": {},
     "output_type": "execute_result"
    }
   ],
   "source": [
    "numbers = [4,5,3,4,56,3,2,31,1,7,8,9,0,234,7,8,9]\n",
    "numbers.sort()\n",
    "numbers"
   ]
  },
  {
   "cell_type": "markdown",
   "metadata": {},
   "source": [
    "### Exercise 3.\n",
    "Let's go back to the fair, create a dictionary, with the following items: banana = 0.98, apple = 7.00, pear = 5.00, carrot = 3.5 After assembling the dictionary, I want you to do ... (?) missing (?)"
   ]
  },
  {
   "cell_type": "markdown",
   "metadata": {},
   "source": [
    "Let's assume that the exercise was asking us to: elaborate a calculator which recives a list of items and its quantities and returns the total cost."
   ]
  },
  {
   "cell_type": "code",
   "execution_count": 31,
   "metadata": {},
   "outputs": [],
   "source": [
    "import pandas as pd"
   ]
  },
  {
   "cell_type": "code",
   "execution_count": 44,
   "metadata": {},
   "outputs": [
    {
     "name": "stdout",
     "output_type": "stream",
     "text": [
      "Available items: banana, apple, pear, carrot\n",
      "(1) Which item do you want to buy? Type END if you have finished your purchase.banana\n",
      "(2) How many of it do you want? Type an integer! 2\n",
      "Available items: banana, apple, pear, carrot\n",
      "(1) Which item do you want to buy? Type END if you have finished your purchase.carrot\n",
      "(2) How many of it do you want? Type an integer! 10\n",
      "Available items: banana, apple, pear, carrot\n",
      "(1) Which item do you want to buy? Type END if you have finished your purchase.END\n"
     ]
    }
   ],
   "source": [
    "# Receiving the list of items and its quantities\n",
    "purchasing = True\n",
    "available_items = [\"banana\", \"apple\", \"pear\", \"carrot\", \"END\"]\n",
    "items = []\n",
    "quantities = []\n",
    "\n",
    "print(\"Available items: banana, apple, pear, carrot\")\n",
    "\n",
    "while purchasing:\n",
    "    answer_items = input(\"(1) Which item do you want to buy? Type END if you have finished your purchase.\")\n",
    "    if answer_items == \"END\":\n",
    "        purchasing = False\n",
    "    elif answer_items not in available_items:\n",
    "        print(\"Your answer is not an available item. Type 'banana', 'apple', 'pear', 'carrot' or 'END'.\")\n",
    "    else:\n",
    "        items.append(answer_items)\n",
    "        quantities.append(int(input(\"(2) How many of it do you want? Type an integer! \")))"
   ]
  },
  {
   "cell_type": "code",
   "execution_count": 52,
   "metadata": {},
   "outputs": [
    {
     "name": "stdout",
     "output_type": "stream",
     "text": [
      "    items  quantities  unit_cost   cost\n",
      "0  banana           2       0.98   1.96\n",
      "1  carrot          10       3.50  35.00\n",
      "Total cost: R$ 36.96\n"
     ]
    }
   ],
   "source": [
    "# Building a list of items, its quantities and price\n",
    "complete_list = pd.DataFrame()\n",
    "complete_list['items'] = items\n",
    "complete_list['quantities'] = quantities\n",
    "complete_list['unit_cost'] = complete_list['items'].replace({\"banana\": 0.98, \"apple\": 7.00, \"pear\": 5.00, \"carrot\": 3.5})\n",
    "complete_list['cost'] = complete_list['quantities'] * complete_list['unit_cost']\n",
    "\n",
    "# Print list\n",
    "print(complete_list)\n",
    "print(\"Total cost: R$\", complete_list['cost'].sum())"
   ]
  }
 ],
 "metadata": {
  "kernelspec": {
   "display_name": "Python 3",
   "language": "python",
   "name": "python3"
  },
  "language_info": {
   "codemirror_mode": {
    "name": "ipython",
    "version": 3
   },
   "file_extension": ".py",
   "mimetype": "text/x-python",
   "name": "python",
   "nbconvert_exporter": "python",
   "pygments_lexer": "ipython3",
   "version": "3.8.3"
  }
 },
 "nbformat": 4,
 "nbformat_minor": 4
}
