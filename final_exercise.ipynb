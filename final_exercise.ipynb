{
 "cells": [
  {
   "cell_type": "markdown",
   "metadata": {},
   "source": [
    "# Final exercise\n",
    "\n",
    "1) What is the average age of people in the register?\n",
    "\n",
    "2) What is the average age of men and women?\n",
    "\n",
    "3) How many men do you have on the register? How many women do you have on the register?\n",
    "\n",
    "4) Show the Average Salary of the register. \n",
    "\n",
    "5) Who has the highest salary? Taking out unemployed, who receives less?\n",
    "\n",
    "6) Create a bar graph and show the schooling distribution in the register.\n",
    "\n",
    "7) Create a graph showing the relationship between schooling and who practices sport.\n",
    "\n",
    "8) How many people like to walk on the weekend?\n",
    "\n",
    "9) Create a heat map.\n",
    "\n",
    "10) Graphically show the distribution between states."
   ]
  },
  {
   "cell_type": "code",
   "execution_count": 56,
   "metadata": {},
   "outputs": [],
   "source": [
    "import pandas as pd\n",
    "from datetime import datetime as dt\n",
    "import numpy as np\n",
    "from matplotlib import pyplot as plt\n",
    "import seaborn as sns"
   ]
  },
  {
   "cell_type": "markdown",
   "metadata": {},
   "source": [
    "## Importing files"
   ]
  },
  {
   "cell_type": "code",
   "execution_count": 2,
   "metadata": {},
   "outputs": [],
   "source": [
    "register = pd.read_csv(\"cadastro - cadastro.csv\")\n",
    "gas_price = pd.read_csv(\"preco da gasolina - preco da gasolina.csv\")\n",
    "salary = pd.read_csv(\"salario_profissoes - salario_profissoes.csv\")"
   ]
  },
  {
   "cell_type": "markdown",
   "metadata": {},
   "source": [
    "## Data cleaning"
   ]
  },
  {
   "cell_type": "markdown",
   "metadata": {},
   "source": [
    "### Register basic information"
   ]
  },
  {
   "cell_type": "code",
   "execution_count": 3,
   "metadata": {},
   "outputs": [
    {
     "data": {
      "text/html": [
       "<div>\n",
       "<style scoped>\n",
       "    .dataframe tbody tr th:only-of-type {\n",
       "        vertical-align: middle;\n",
       "    }\n",
       "\n",
       "    .dataframe tbody tr th {\n",
       "        vertical-align: top;\n",
       "    }\n",
       "\n",
       "    .dataframe thead th {\n",
       "        text-align: right;\n",
       "    }\n",
       "</style>\n",
       "<table border=\"1\" class=\"dataframe\">\n",
       "  <thead>\n",
       "    <tr style=\"text-align: right;\">\n",
       "      <th></th>\n",
       "      <th>nome</th>\n",
       "      <th>sobrenome</th>\n",
       "      <th>ano_nascimento</th>\n",
       "      <th>sexo</th>\n",
       "      <th>cidade</th>\n",
       "      <th>profissão</th>\n",
       "      <th>experiencia profissional</th>\n",
       "      <th>estado_civil</th>\n",
       "      <th>filhos</th>\n",
       "      <th>lazer_final_de_semana</th>\n",
       "      <th>pratica_esporte</th>\n",
       "      <th>qual_esporte</th>\n",
       "      <th>quanta_vezes_na_semana_pratica_esporte</th>\n",
       "      <th>tem carro</th>\n",
       "      <th>escolaridade</th>\n",
       "    </tr>\n",
       "  </thead>\n",
       "  <tbody>\n",
       "    <tr>\n",
       "      <th>0</th>\n",
       "      <td>Dirceu</td>\n",
       "      <td>Manolo</td>\n",
       "      <td>1985</td>\n",
       "      <td>m</td>\n",
       "      <td>São Vicente</td>\n",
       "      <td>Cientista de Dados</td>\n",
       "      <td>4</td>\n",
       "      <td>Casado</td>\n",
       "      <td>1</td>\n",
       "      <td>estudar, academia, jogar video game,surfar</td>\n",
       "      <td>sim</td>\n",
       "      <td>academia</td>\n",
       "      <td>3.0</td>\n",
       "      <td>sim</td>\n",
       "      <td>Ensino Superior</td>\n",
       "    </tr>\n",
       "    <tr>\n",
       "      <th>1</th>\n",
       "      <td>Maria</td>\n",
       "      <td>Silva</td>\n",
       "      <td>1970</td>\n",
       "      <td>f</td>\n",
       "      <td>Santos</td>\n",
       "      <td>dona de casa</td>\n",
       "      <td>2</td>\n",
       "      <td>Casada</td>\n",
       "      <td>3</td>\n",
       "      <td>ver tv</td>\n",
       "      <td>não</td>\n",
       "      <td>-</td>\n",
       "      <td>0.0</td>\n",
       "      <td>não</td>\n",
       "      <td>Ensino Médio</td>\n",
       "    </tr>\n",
       "    <tr>\n",
       "      <th>2</th>\n",
       "      <td>Adalberto</td>\n",
       "      <td>Martins</td>\n",
       "      <td>1990</td>\n",
       "      <td>m</td>\n",
       "      <td>São Paulo</td>\n",
       "      <td>desempregado</td>\n",
       "      <td>0</td>\n",
       "      <td>Solteiro</td>\n",
       "      <td>1</td>\n",
       "      <td>jogar bola</td>\n",
       "      <td>sim</td>\n",
       "      <td>jogo bola</td>\n",
       "      <td>2.0</td>\n",
       "      <td>sim</td>\n",
       "      <td>Ensino Superior</td>\n",
       "    </tr>\n",
       "    <tr>\n",
       "      <th>3</th>\n",
       "      <td>João</td>\n",
       "      <td>Aparecido</td>\n",
       "      <td>1950</td>\n",
       "      <td>m</td>\n",
       "      <td>Monte Alto</td>\n",
       "      <td>Gerente de Projeto</td>\n",
       "      <td>3</td>\n",
       "      <td>Viuvo</td>\n",
       "      <td>2</td>\n",
       "      <td>Nã faço nada</td>\n",
       "      <td>NaN</td>\n",
       "      <td>-</td>\n",
       "      <td>NaN</td>\n",
       "      <td>sim</td>\n",
       "      <td>Ensino Superior</td>\n",
       "    </tr>\n",
       "    <tr>\n",
       "      <th>4</th>\n",
       "      <td>Marta</td>\n",
       "      <td>da Silva</td>\n",
       "      <td>1983</td>\n",
       "      <td>f</td>\n",
       "      <td>São Caetano</td>\n",
       "      <td>Auxiliar de Enfermagem</td>\n",
       "      <td>2</td>\n",
       "      <td>Solteira</td>\n",
       "      <td>0</td>\n",
       "      <td>caminhar</td>\n",
       "      <td>sim</td>\n",
       "      <td>crossfit</td>\n",
       "      <td>4.0</td>\n",
       "      <td>não</td>\n",
       "      <td>Ensimo Tecnico</td>\n",
       "    </tr>\n",
       "  </tbody>\n",
       "</table>\n",
       "</div>"
      ],
      "text/plain": [
       "        nome  sobrenome  ano_nascimento sexo       cidade  \\\n",
       "0     Dirceu     Manolo            1985    m  São Vicente   \n",
       "1      Maria      Silva            1970    f       Santos   \n",
       "2  Adalberto    Martins            1990    m    São Paulo   \n",
       "3       João  Aparecido            1950    m   Monte Alto   \n",
       "4      Marta   da Silva            1983    f  São Caetano   \n",
       "\n",
       "                profissão  experiencia profissional estado_civil  filhos  \\\n",
       "0      Cientista de Dados                         4       Casado       1   \n",
       "1            dona de casa                         2       Casada       3   \n",
       "2            desempregado                         0     Solteiro       1   \n",
       "3      Gerente de Projeto                         3        Viuvo       2   \n",
       "4  Auxiliar de Enfermagem                         2     Solteira       0   \n",
       "\n",
       "                        lazer_final_de_semana pratica_esporte qual_esporte  \\\n",
       "0  estudar, academia, jogar video game,surfar             sim     academia   \n",
       "1                                      ver tv             não            -   \n",
       "2                                  jogar bola             sim    jogo bola   \n",
       "3                                Nã faço nada             NaN            -   \n",
       "4                                    caminhar             sim     crossfit   \n",
       "\n",
       "   quanta_vezes_na_semana_pratica_esporte tem carro     escolaridade  \n",
       "0                                     3.0       sim  Ensino Superior  \n",
       "1                                     0.0       não     Ensino Médio  \n",
       "2                                     2.0       sim  Ensino Superior  \n",
       "3                                     NaN       sim  Ensino Superior  \n",
       "4                                     4.0       não   Ensimo Tecnico  "
      ]
     },
     "execution_count": 3,
     "metadata": {},
     "output_type": "execute_result"
    }
   ],
   "source": [
    "register.head()"
   ]
  },
  {
   "cell_type": "code",
   "execution_count": 4,
   "metadata": {},
   "outputs": [
    {
     "name": "stdout",
     "output_type": "stream",
     "text": [
      "<class 'pandas.core.frame.DataFrame'>\n",
      "RangeIndex: 30 entries, 0 to 29\n",
      "Data columns (total 15 columns):\n",
      " #   Column                                  Non-Null Count  Dtype  \n",
      "---  ------                                  --------------  -----  \n",
      " 0   nome                                    30 non-null     object \n",
      " 1   sobrenome                               29 non-null     object \n",
      " 2   ano_nascimento                          30 non-null     int64  \n",
      " 3   sexo                                    30 non-null     object \n",
      " 4   cidade                                  30 non-null     object \n",
      " 5   profissão                               30 non-null     object \n",
      " 6   experiencia profissional                30 non-null     int64  \n",
      " 7   estado_civil                            30 non-null     object \n",
      " 8   filhos                                  30 non-null     int64  \n",
      " 9   lazer_final_de_semana                   30 non-null     object \n",
      " 10  pratica_esporte                         29 non-null     object \n",
      " 11  qual_esporte                            30 non-null     object \n",
      " 12  quanta_vezes_na_semana_pratica_esporte  27 non-null     float64\n",
      " 13  tem carro                               29 non-null     object \n",
      " 14  escolaridade                            30 non-null     object \n",
      "dtypes: float64(1), int64(3), object(11)\n",
      "memory usage: 3.6+ KB\n"
     ]
    }
   ],
   "source": [
    "register.info()"
   ]
  },
  {
   "cell_type": "code",
   "execution_count": 5,
   "metadata": {},
   "outputs": [],
   "source": [
    "# Rename columns\n",
    "register.columns = ['name', 'surname', 'birth_year', 'sex', 'city', 'profession',\n",
    "       'experience', 'marital_status', 'children',\n",
    "       'hobbies', 'sport_flag', 'sport_description',\n",
    "       'sport_frequency_week', 'car', 'schooling']"
   ]
  },
  {
   "cell_type": "code",
   "execution_count": 6,
   "metadata": {},
   "outputs": [],
   "source": [
    "# Correction of data type\n",
    "register.sex = register.sex.astype(\"category\")\n",
    "register.sport_flag = register.sport_flag.replace({'sim':True, \"não\":False}).astype(\"category\")\n",
    "\n",
    "# Correcting capitalization\n",
    "register.schooling = register.schooling.str.lower()"
   ]
  },
  {
   "cell_type": "code",
   "execution_count": 7,
   "metadata": {},
   "outputs": [
    {
     "data": {
      "text/plain": [
       "count     30\n",
       "unique     2\n",
       "top        m\n",
       "freq      16\n",
       "Name: sex, dtype: object"
      ]
     },
     "execution_count": 7,
     "metadata": {},
     "output_type": "execute_result"
    }
   ],
   "source": [
    "# Basic statistics from \"sex\" column\n",
    "register.sex.describe()"
   ]
  },
  {
   "cell_type": "code",
   "execution_count": 8,
   "metadata": {},
   "outputs": [
    {
     "data": {
      "text/plain": [
       "count       29\n",
       "unique       2\n",
       "top       True\n",
       "freq        19\n",
       "Name: sport_flag, dtype: object"
      ]
     },
     "execution_count": 8,
     "metadata": {},
     "output_type": "execute_result"
    }
   ],
   "source": [
    "# Basic statistics from \"sports practice\" column\n",
    "register.sport_flag.describe()"
   ]
  },
  {
   "cell_type": "markdown",
   "metadata": {},
   "source": [
    "### Gas price basic information"
   ]
  },
  {
   "cell_type": "code",
   "execution_count": 9,
   "metadata": {},
   "outputs": [
    {
     "data": {
      "text/html": [
       "<div>\n",
       "<style scoped>\n",
       "    .dataframe tbody tr th:only-of-type {\n",
       "        vertical-align: middle;\n",
       "    }\n",
       "\n",
       "    .dataframe tbody tr th {\n",
       "        vertical-align: top;\n",
       "    }\n",
       "\n",
       "    .dataframe thead th {\n",
       "        text-align: right;\n",
       "    }\n",
       "</style>\n",
       "<table border=\"1\" class=\"dataframe\">\n",
       "  <thead>\n",
       "    <tr style=\"text-align: right;\">\n",
       "      <th></th>\n",
       "      <th>cidade</th>\n",
       "      <th>preço</th>\n",
       "    </tr>\n",
       "  </thead>\n",
       "  <tbody>\n",
       "    <tr>\n",
       "      <th>0</th>\n",
       "      <td>São Vicente</td>\n",
       "      <td>3,45</td>\n",
       "    </tr>\n",
       "    <tr>\n",
       "      <th>1</th>\n",
       "      <td>Santos</td>\n",
       "      <td>3,33</td>\n",
       "    </tr>\n",
       "    <tr>\n",
       "      <th>2</th>\n",
       "      <td>São Paulo</td>\n",
       "      <td>3,23</td>\n",
       "    </tr>\n",
       "    <tr>\n",
       "      <th>3</th>\n",
       "      <td>Monte Alto</td>\n",
       "      <td>4</td>\n",
       "    </tr>\n",
       "    <tr>\n",
       "      <th>4</th>\n",
       "      <td>São Caetano</td>\n",
       "      <td>3,56</td>\n",
       "    </tr>\n",
       "  </tbody>\n",
       "</table>\n",
       "</div>"
      ],
      "text/plain": [
       "        cidade preço\n",
       "0  São Vicente  3,45\n",
       "1       Santos  3,33\n",
       "2    São Paulo  3,23\n",
       "3   Monte Alto     4\n",
       "4  São Caetano  3,56"
      ]
     },
     "execution_count": 9,
     "metadata": {},
     "output_type": "execute_result"
    }
   ],
   "source": [
    "gas_price.head()"
   ]
  },
  {
   "cell_type": "markdown",
   "metadata": {},
   "source": [
    "### Salary basic information"
   ]
  },
  {
   "cell_type": "code",
   "execution_count": 10,
   "metadata": {},
   "outputs": [
    {
     "data": {
      "text/html": [
       "<div>\n",
       "<style scoped>\n",
       "    .dataframe tbody tr th:only-of-type {\n",
       "        vertical-align: middle;\n",
       "    }\n",
       "\n",
       "    .dataframe tbody tr th {\n",
       "        vertical-align: top;\n",
       "    }\n",
       "\n",
       "    .dataframe thead th {\n",
       "        text-align: right;\n",
       "    }\n",
       "</style>\n",
       "<table border=\"1\" class=\"dataframe\">\n",
       "  <thead>\n",
       "    <tr style=\"text-align: right;\">\n",
       "      <th></th>\n",
       "      <th>Profissões</th>\n",
       "      <th>salario até 3 anos</th>\n",
       "      <th>salaior +3 anos</th>\n",
       "    </tr>\n",
       "  </thead>\n",
       "  <tbody>\n",
       "    <tr>\n",
       "      <th>0</th>\n",
       "      <td>Cientista de Dados</td>\n",
       "      <td>10000</td>\n",
       "      <td>14000</td>\n",
       "    </tr>\n",
       "    <tr>\n",
       "      <th>1</th>\n",
       "      <td>dona de casa</td>\n",
       "      <td>1200</td>\n",
       "      <td>1200</td>\n",
       "    </tr>\n",
       "    <tr>\n",
       "      <th>2</th>\n",
       "      <td>desempregado</td>\n",
       "      <td>0</td>\n",
       "      <td>0</td>\n",
       "    </tr>\n",
       "    <tr>\n",
       "      <th>3</th>\n",
       "      <td>Gerente de Projeto</td>\n",
       "      <td>5000</td>\n",
       "      <td>10000</td>\n",
       "    </tr>\n",
       "    <tr>\n",
       "      <th>4</th>\n",
       "      <td>Auxiliar de Enfermagem</td>\n",
       "      <td>1500</td>\n",
       "      <td>4000</td>\n",
       "    </tr>\n",
       "  </tbody>\n",
       "</table>\n",
       "</div>"
      ],
      "text/plain": [
       "               Profissões  salario até 3 anos  salaior +3 anos\n",
       "0      Cientista de Dados               10000            14000\n",
       "1            dona de casa                1200             1200\n",
       "2            desempregado                   0                0\n",
       "3      Gerente de Projeto                5000            10000\n",
       "4  Auxiliar de Enfermagem                1500             4000"
      ]
     },
     "execution_count": 10,
     "metadata": {},
     "output_type": "execute_result"
    }
   ],
   "source": [
    "salary.head()"
   ]
  },
  {
   "cell_type": "code",
   "execution_count": 11,
   "metadata": {},
   "outputs": [
    {
     "data": {
      "text/plain": [
       "Index(['profession', 'salary_minus_3y', 'salary_plus_3y'], dtype='object')"
      ]
     },
     "execution_count": 11,
     "metadata": {},
     "output_type": "execute_result"
    }
   ],
   "source": [
    "# Rename columns\n",
    "salary.columns = [\"profession\", \"salary_minus_3y\", \"salary_plus_3y\"]\n",
    "salary.columns"
   ]
  },
  {
   "cell_type": "markdown",
   "metadata": {},
   "source": [
    "## Answering some questions"
   ]
  },
  {
   "cell_type": "markdown",
   "metadata": {},
   "source": [
    "### 1) What is the average age of people in the register?\n",
    "\n",
    "The average age is 33 years."
   ]
  },
  {
   "cell_type": "code",
   "execution_count": 12,
   "metadata": {},
   "outputs": [
    {
     "data": {
      "text/html": [
       "<div>\n",
       "<style scoped>\n",
       "    .dataframe tbody tr th:only-of-type {\n",
       "        vertical-align: middle;\n",
       "    }\n",
       "\n",
       "    .dataframe tbody tr th {\n",
       "        vertical-align: top;\n",
       "    }\n",
       "\n",
       "    .dataframe thead th {\n",
       "        text-align: right;\n",
       "    }\n",
       "</style>\n",
       "<table border=\"1\" class=\"dataframe\">\n",
       "  <thead>\n",
       "    <tr style=\"text-align: right;\">\n",
       "      <th></th>\n",
       "      <th>age</th>\n",
       "      <th>birth_year</th>\n",
       "    </tr>\n",
       "  </thead>\n",
       "  <tbody>\n",
       "    <tr>\n",
       "      <th>0</th>\n",
       "      <td>35</td>\n",
       "      <td>1985</td>\n",
       "    </tr>\n",
       "    <tr>\n",
       "      <th>1</th>\n",
       "      <td>50</td>\n",
       "      <td>1970</td>\n",
       "    </tr>\n",
       "    <tr>\n",
       "      <th>2</th>\n",
       "      <td>30</td>\n",
       "      <td>1990</td>\n",
       "    </tr>\n",
       "    <tr>\n",
       "      <th>3</th>\n",
       "      <td>70</td>\n",
       "      <td>1950</td>\n",
       "    </tr>\n",
       "    <tr>\n",
       "      <th>4</th>\n",
       "      <td>37</td>\n",
       "      <td>1983</td>\n",
       "    </tr>\n",
       "  </tbody>\n",
       "</table>\n",
       "</div>"
      ],
      "text/plain": [
       "   age  birth_year\n",
       "0   35        1985\n",
       "1   50        1970\n",
       "2   30        1990\n",
       "3   70        1950\n",
       "4   37        1983"
      ]
     },
     "execution_count": 12,
     "metadata": {},
     "output_type": "execute_result"
    }
   ],
   "source": [
    "# Calculation of age\n",
    "register['age'] = dt.now().year - register.birth_year\n",
    "register[['age','birth_year']].head()"
   ]
  },
  {
   "cell_type": "code",
   "execution_count": 13,
   "metadata": {},
   "outputs": [
    {
     "data": {
      "text/plain": [
       "33"
      ]
     },
     "execution_count": 13,
     "metadata": {},
     "output_type": "execute_result"
    }
   ],
   "source": [
    "# Calculation of mean\n",
    "round(register.age.mean())"
   ]
  },
  {
   "cell_type": "markdown",
   "metadata": {},
   "source": [
    "### 2) What is the average age of men and women?\n",
    "The average age of men is 32 years, while women are on average 2 years older."
   ]
  },
  {
   "cell_type": "code",
   "execution_count": 14,
   "metadata": {},
   "outputs": [
    {
     "data": {
      "text/html": [
       "<div>\n",
       "<style scoped>\n",
       "    .dataframe tbody tr th:only-of-type {\n",
       "        vertical-align: middle;\n",
       "    }\n",
       "\n",
       "    .dataframe tbody tr th {\n",
       "        vertical-align: top;\n",
       "    }\n",
       "\n",
       "    .dataframe thead th {\n",
       "        text-align: right;\n",
       "    }\n",
       "</style>\n",
       "<table border=\"1\" class=\"dataframe\">\n",
       "  <thead>\n",
       "    <tr style=\"text-align: right;\">\n",
       "      <th></th>\n",
       "      <th>age</th>\n",
       "    </tr>\n",
       "    <tr>\n",
       "      <th>sex</th>\n",
       "      <th></th>\n",
       "    </tr>\n",
       "  </thead>\n",
       "  <tbody>\n",
       "    <tr>\n",
       "      <th>f</th>\n",
       "      <td>34.0</td>\n",
       "    </tr>\n",
       "    <tr>\n",
       "      <th>m</th>\n",
       "      <td>32.0</td>\n",
       "    </tr>\n",
       "  </tbody>\n",
       "</table>\n",
       "</div>"
      ],
      "text/plain": [
       "      age\n",
       "sex      \n",
       "f    34.0\n",
       "m    32.0"
      ]
     },
     "execution_count": 14,
     "metadata": {},
     "output_type": "execute_result"
    }
   ],
   "source": [
    "sex_age = register[['age','sex']]\n",
    "sex_age = sex_age.groupby(\"sex\").agg(\"mean\").round()\n",
    "sex_age"
   ]
  },
  {
   "cell_type": "markdown",
   "metadata": {},
   "source": [
    "### 3) How many men do you have on the register? How many women do you have on the register?\n",
    "There ate 16 men and 14 women."
   ]
  },
  {
   "cell_type": "code",
   "execution_count": 15,
   "metadata": {},
   "outputs": [
    {
     "data": {
      "text/plain": [
       "m    16\n",
       "f    14\n",
       "Name: sex, dtype: int64"
      ]
     },
     "execution_count": 15,
     "metadata": {},
     "output_type": "execute_result"
    }
   ],
   "source": [
    "register.sex.value_counts()"
   ]
  },
  {
   "cell_type": "markdown",
   "metadata": {},
   "source": [
    "### 4) Show the Average Salary of the register.\n",
    "The average salary for the professions in the regster is R$ 4617"
   ]
  },
  {
   "cell_type": "markdown",
   "metadata": {},
   "source": [
    "Comparison of possible values in each table."
   ]
  },
  {
   "cell_type": "code",
   "execution_count": 16,
   "metadata": {},
   "outputs": [
    {
     "data": {
      "text/plain": [
       "array(['Cientista de Dados', 'dona de casa', 'desempregado',\n",
       "       'Gerente de Projeto', 'Auxiliar de Enfermagem', 'caixa de mercado',\n",
       "       'estagiario', 'Médica', 'estudante', 'Enfermeira', 'Autonoma',\n",
       "       'Caminhoneiro', 'Gerente Financeiro', 'Dentista', 'Nutricionista',\n",
       "       'Pedreiro', 'Professora', 'Recursos Humanos', 'Frentista',\n",
       "       'Gerente Geral', 'Analista de Sistemas', 'Biomedica',\n",
       "       'Comercio Exterior'], dtype=object)"
      ]
     },
     "execution_count": 16,
     "metadata": {},
     "output_type": "execute_result"
    }
   ],
   "source": [
    "salary.profession.unique()"
   ]
  },
  {
   "cell_type": "code",
   "execution_count": 17,
   "metadata": {},
   "outputs": [
    {
     "data": {
      "text/plain": [
       "array(['Cientista de Dados', 'dona de casa', 'desempregado',\n",
       "       'Gerente de Projeto', 'Auxiliar de Enfermagem', 'caixa de mercado',\n",
       "       'Não informado', 'estagiario', 'Médica', 'estudante', 'Enfermeira',\n",
       "       'Autonoma', 'Caminhoneiro', 'Gerente Financeiro', 'Dentista',\n",
       "       'Nutricionista', 'Pedreiro', 'Professora', 'Recursos Humanos',\n",
       "       'Frentista', 'Gerente Geral', 'Analista de Sistemas', 'Biomedica',\n",
       "       'Comercio Exterior'], dtype=object)"
      ]
     },
     "execution_count": 17,
     "metadata": {},
     "output_type": "execute_result"
    }
   ],
   "source": [
    "register.profession.unique()"
   ]
  },
  {
   "cell_type": "markdown",
   "metadata": {},
   "source": [
    "Since the format and all values present in the register table are available in the salary table, there is no need to tread the data in these columns before merging both tables."
   ]
  },
  {
   "cell_type": "code",
   "execution_count": 18,
   "metadata": {},
   "outputs": [
    {
     "data": {
      "text/html": [
       "<div>\n",
       "<style scoped>\n",
       "    .dataframe tbody tr th:only-of-type {\n",
       "        vertical-align: middle;\n",
       "    }\n",
       "\n",
       "    .dataframe tbody tr th {\n",
       "        vertical-align: top;\n",
       "    }\n",
       "\n",
       "    .dataframe thead th {\n",
       "        text-align: right;\n",
       "    }\n",
       "</style>\n",
       "<table border=\"1\" class=\"dataframe\">\n",
       "  <thead>\n",
       "    <tr style=\"text-align: right;\">\n",
       "      <th></th>\n",
       "      <th>name</th>\n",
       "      <th>surname</th>\n",
       "      <th>birth_year</th>\n",
       "      <th>sex</th>\n",
       "      <th>city</th>\n",
       "      <th>profession</th>\n",
       "      <th>experience</th>\n",
       "      <th>marital_status</th>\n",
       "      <th>children</th>\n",
       "      <th>hobbies</th>\n",
       "      <th>sport_flag</th>\n",
       "      <th>sport_description</th>\n",
       "      <th>sport_frequency_week</th>\n",
       "      <th>car</th>\n",
       "      <th>schooling</th>\n",
       "      <th>age</th>\n",
       "      <th>salary_minus_3y</th>\n",
       "      <th>salary_plus_3y</th>\n",
       "    </tr>\n",
       "  </thead>\n",
       "  <tbody>\n",
       "    <tr>\n",
       "      <th>0</th>\n",
       "      <td>Dirceu</td>\n",
       "      <td>Manolo</td>\n",
       "      <td>1985</td>\n",
       "      <td>m</td>\n",
       "      <td>São Vicente</td>\n",
       "      <td>Cientista de Dados</td>\n",
       "      <td>4</td>\n",
       "      <td>Casado</td>\n",
       "      <td>1</td>\n",
       "      <td>estudar, academia, jogar video game,surfar</td>\n",
       "      <td>True</td>\n",
       "      <td>academia</td>\n",
       "      <td>3.0</td>\n",
       "      <td>sim</td>\n",
       "      <td>ensino superior</td>\n",
       "      <td>35</td>\n",
       "      <td>10000</td>\n",
       "      <td>14000</td>\n",
       "    </tr>\n",
       "    <tr>\n",
       "      <th>1</th>\n",
       "      <td>Maria</td>\n",
       "      <td>Silva</td>\n",
       "      <td>1970</td>\n",
       "      <td>f</td>\n",
       "      <td>Santos</td>\n",
       "      <td>dona de casa</td>\n",
       "      <td>2</td>\n",
       "      <td>Casada</td>\n",
       "      <td>3</td>\n",
       "      <td>ver tv</td>\n",
       "      <td>False</td>\n",
       "      <td>-</td>\n",
       "      <td>0.0</td>\n",
       "      <td>não</td>\n",
       "      <td>ensino médio</td>\n",
       "      <td>50</td>\n",
       "      <td>1200</td>\n",
       "      <td>1200</td>\n",
       "    </tr>\n",
       "    <tr>\n",
       "      <th>2</th>\n",
       "      <td>Adalberto</td>\n",
       "      <td>Martins</td>\n",
       "      <td>1990</td>\n",
       "      <td>m</td>\n",
       "      <td>São Paulo</td>\n",
       "      <td>desempregado</td>\n",
       "      <td>0</td>\n",
       "      <td>Solteiro</td>\n",
       "      <td>1</td>\n",
       "      <td>jogar bola</td>\n",
       "      <td>True</td>\n",
       "      <td>jogo bola</td>\n",
       "      <td>2.0</td>\n",
       "      <td>sim</td>\n",
       "      <td>ensino superior</td>\n",
       "      <td>30</td>\n",
       "      <td>0</td>\n",
       "      <td>0</td>\n",
       "    </tr>\n",
       "    <tr>\n",
       "      <th>3</th>\n",
       "      <td>Lucas</td>\n",
       "      <td>Silva e Silva</td>\n",
       "      <td>1995</td>\n",
       "      <td>m</td>\n",
       "      <td>Goias</td>\n",
       "      <td>desempregado</td>\n",
       "      <td>1</td>\n",
       "      <td>Solteiro</td>\n",
       "      <td>0</td>\n",
       "      <td>estudo</td>\n",
       "      <td>True</td>\n",
       "      <td>correr na rua</td>\n",
       "      <td>4.0</td>\n",
       "      <td>não</td>\n",
       "      <td>ensino superior</td>\n",
       "      <td>25</td>\n",
       "      <td>0</td>\n",
       "      <td>0</td>\n",
       "    </tr>\n",
       "    <tr>\n",
       "      <th>4</th>\n",
       "      <td>João</td>\n",
       "      <td>Aparecido</td>\n",
       "      <td>1950</td>\n",
       "      <td>m</td>\n",
       "      <td>Monte Alto</td>\n",
       "      <td>Gerente de Projeto</td>\n",
       "      <td>3</td>\n",
       "      <td>Viuvo</td>\n",
       "      <td>2</td>\n",
       "      <td>Nã faço nada</td>\n",
       "      <td>NaN</td>\n",
       "      <td>-</td>\n",
       "      <td>NaN</td>\n",
       "      <td>sim</td>\n",
       "      <td>ensino superior</td>\n",
       "      <td>70</td>\n",
       "      <td>5000</td>\n",
       "      <td>10000</td>\n",
       "    </tr>\n",
       "  </tbody>\n",
       "</table>\n",
       "</div>"
      ],
      "text/plain": [
       "        name        surname  birth_year sex         city          profession  \\\n",
       "0     Dirceu         Manolo        1985   m  São Vicente  Cientista de Dados   \n",
       "1      Maria          Silva        1970   f       Santos        dona de casa   \n",
       "2  Adalberto        Martins        1990   m    São Paulo        desempregado   \n",
       "3      Lucas  Silva e Silva        1995   m        Goias        desempregado   \n",
       "4       João      Aparecido        1950   m   Monte Alto  Gerente de Projeto   \n",
       "\n",
       "   experience marital_status  children  \\\n",
       "0           4         Casado         1   \n",
       "1           2         Casada         3   \n",
       "2           0       Solteiro         1   \n",
       "3           1       Solteiro         0   \n",
       "4           3          Viuvo         2   \n",
       "\n",
       "                                      hobbies sport_flag sport_description  \\\n",
       "0  estudar, academia, jogar video game,surfar       True          academia   \n",
       "1                                      ver tv      False                 -   \n",
       "2                                  jogar bola       True         jogo bola   \n",
       "3                                      estudo       True     correr na rua   \n",
       "4                                Nã faço nada        NaN                 -   \n",
       "\n",
       "   sport_frequency_week  car        schooling  age  salary_minus_3y  \\\n",
       "0                   3.0  sim  ensino superior   35            10000   \n",
       "1                   0.0  não     ensino médio   50             1200   \n",
       "2                   2.0  sim  ensino superior   30                0   \n",
       "3                   4.0  não  ensino superior   25                0   \n",
       "4                   NaN  sim  ensino superior   70             5000   \n",
       "\n",
       "   salary_plus_3y  \n",
       "0           14000  \n",
       "1            1200  \n",
       "2               0  \n",
       "3               0  \n",
       "4           10000  "
      ]
     },
     "execution_count": 18,
     "metadata": {},
     "output_type": "execute_result"
    }
   ],
   "source": [
    "# Merging dataframes\n",
    "register_with_salary = register.merge(salary, on = 'profession')\n",
    "register_with_salary.head()"
   ]
  },
  {
   "cell_type": "code",
   "execution_count": 19,
   "metadata": {},
   "outputs": [
    {
     "data": {
      "text/html": [
       "<div>\n",
       "<style scoped>\n",
       "    .dataframe tbody tr th:only-of-type {\n",
       "        vertical-align: middle;\n",
       "    }\n",
       "\n",
       "    .dataframe tbody tr th {\n",
       "        vertical-align: top;\n",
       "    }\n",
       "\n",
       "    .dataframe thead th {\n",
       "        text-align: right;\n",
       "    }\n",
       "</style>\n",
       "<table border=\"1\" class=\"dataframe\">\n",
       "  <thead>\n",
       "    <tr style=\"text-align: right;\">\n",
       "      <th></th>\n",
       "      <th>profession</th>\n",
       "      <th>experience</th>\n",
       "      <th>salary_minus_3y</th>\n",
       "      <th>salary_plus_3y</th>\n",
       "      <th>expected_salary</th>\n",
       "    </tr>\n",
       "  </thead>\n",
       "  <tbody>\n",
       "    <tr>\n",
       "      <th>0</th>\n",
       "      <td>Cientista de Dados</td>\n",
       "      <td>4</td>\n",
       "      <td>10000</td>\n",
       "      <td>14000</td>\n",
       "      <td>14000</td>\n",
       "    </tr>\n",
       "    <tr>\n",
       "      <th>1</th>\n",
       "      <td>dona de casa</td>\n",
       "      <td>2</td>\n",
       "      <td>1200</td>\n",
       "      <td>1200</td>\n",
       "      <td>1200</td>\n",
       "    </tr>\n",
       "    <tr>\n",
       "      <th>2</th>\n",
       "      <td>desempregado</td>\n",
       "      <td>0</td>\n",
       "      <td>0</td>\n",
       "      <td>0</td>\n",
       "      <td>0</td>\n",
       "    </tr>\n",
       "    <tr>\n",
       "      <th>3</th>\n",
       "      <td>desempregado</td>\n",
       "      <td>1</td>\n",
       "      <td>0</td>\n",
       "      <td>0</td>\n",
       "      <td>0</td>\n",
       "    </tr>\n",
       "    <tr>\n",
       "      <th>4</th>\n",
       "      <td>Gerente de Projeto</td>\n",
       "      <td>3</td>\n",
       "      <td>5000</td>\n",
       "      <td>10000</td>\n",
       "      <td>5000</td>\n",
       "    </tr>\n",
       "  </tbody>\n",
       "</table>\n",
       "</div>"
      ],
      "text/plain": [
       "           profession  experience  salary_minus_3y  salary_plus_3y  \\\n",
       "0  Cientista de Dados           4            10000           14000   \n",
       "1        dona de casa           2             1200            1200   \n",
       "2        desempregado           0                0               0   \n",
       "3        desempregado           1                0               0   \n",
       "4  Gerente de Projeto           3             5000           10000   \n",
       "\n",
       "   expected_salary  \n",
       "0            14000  \n",
       "1             1200  \n",
       "2                0  \n",
       "3                0  \n",
       "4             5000  "
      ]
     },
     "execution_count": 19,
     "metadata": {},
     "output_type": "execute_result"
    }
   ],
   "source": [
    "# Selecting expected salary\n",
    "register_with_salary['expected_salary']= np.where(\n",
    "    register_with_salary['experience']<=3,\n",
    "    register_with_salary.salary_minus_3y,\n",
    "    register_with_salary.salary_plus_3y)\n",
    "register_with_salary[['profession','experience','salary_minus_3y','salary_plus_3y','expected_salary']].head()"
   ]
  },
  {
   "cell_type": "code",
   "execution_count": 20,
   "metadata": {},
   "outputs": [
    {
     "data": {
      "text/plain": [
       "4617"
      ]
     },
     "execution_count": 20,
     "metadata": {},
     "output_type": "execute_result"
    }
   ],
   "source": [
    "round(register_with_salary.expected_salary.mean())"
   ]
  },
  {
   "cell_type": "markdown",
   "metadata": {},
   "source": [
    "### 5) Who has the highest salary? Taking out unemployed, who receives less?\n",
    "The person with the highest salary is Mirtes: 44-year-old married doctor (5 years of experience) with 2 kids. She practices crossfit 3 times per week, has a car. Her expected salary is R$ 12k.\n",
    "\n",
    "Who receives less, besides unemployed and students, are Maria Silva and Vilma Narsiza. "
   ]
  },
  {
   "cell_type": "code",
   "execution_count": 21,
   "metadata": {},
   "outputs": [
    {
     "data": {
      "text/html": [
       "<div>\n",
       "<style scoped>\n",
       "    .dataframe tbody tr th:only-of-type {\n",
       "        vertical-align: middle;\n",
       "    }\n",
       "\n",
       "    .dataframe tbody tr th {\n",
       "        vertical-align: top;\n",
       "    }\n",
       "\n",
       "    .dataframe thead th {\n",
       "        text-align: right;\n",
       "    }\n",
       "</style>\n",
       "<table border=\"1\" class=\"dataframe\">\n",
       "  <thead>\n",
       "    <tr style=\"text-align: right;\">\n",
       "      <th></th>\n",
       "      <th>name</th>\n",
       "      <th>surname</th>\n",
       "      <th>birth_year</th>\n",
       "      <th>sex</th>\n",
       "      <th>city</th>\n",
       "      <th>profession</th>\n",
       "      <th>experience</th>\n",
       "      <th>marital_status</th>\n",
       "      <th>children</th>\n",
       "      <th>hobbies</th>\n",
       "      <th>sport_flag</th>\n",
       "      <th>sport_description</th>\n",
       "      <th>sport_frequency_week</th>\n",
       "      <th>car</th>\n",
       "      <th>schooling</th>\n",
       "      <th>age</th>\n",
       "      <th>salary_minus_3y</th>\n",
       "      <th>salary_plus_3y</th>\n",
       "      <th>expected_salary</th>\n",
       "    </tr>\n",
       "  </thead>\n",
       "  <tbody>\n",
       "    <tr>\n",
       "      <th>9</th>\n",
       "      <td>Mirtes</td>\n",
       "      <td>NaN</td>\n",
       "      <td>1976</td>\n",
       "      <td>f</td>\n",
       "      <td>Vitoria</td>\n",
       "      <td>Médica</td>\n",
       "      <td>5</td>\n",
       "      <td>Casada</td>\n",
       "      <td>2</td>\n",
       "      <td>leitura e ficar com os filhos</td>\n",
       "      <td>True</td>\n",
       "      <td>crossfit</td>\n",
       "      <td>3.0</td>\n",
       "      <td>sim</td>\n",
       "      <td>ensino superior</td>\n",
       "      <td>44</td>\n",
       "      <td>12000</td>\n",
       "      <td>20000</td>\n",
       "      <td>20000</td>\n",
       "    </tr>\n",
       "  </tbody>\n",
       "</table>\n",
       "</div>"
      ],
      "text/plain": [
       "     name surname  birth_year sex     city profession  experience  \\\n",
       "9  Mirtes     NaN        1976   f  Vitoria     Médica           5   \n",
       "\n",
       "  marital_status  children                        hobbies sport_flag  \\\n",
       "9         Casada         2  leitura e ficar com os filhos       True   \n",
       "\n",
       "  sport_description  sport_frequency_week  car        schooling  age  \\\n",
       "9          crossfit                   3.0  sim  ensino superior   44   \n",
       "\n",
       "   salary_minus_3y  salary_plus_3y  expected_salary  \n",
       "9            12000           20000            20000  "
      ]
     },
     "execution_count": 21,
     "metadata": {},
     "output_type": "execute_result"
    }
   ],
   "source": [
    "# Filtering the information of the person who has the highest salary\n",
    "register_with_salary[register_with_salary['expected_salary'] == register_with_salary['expected_salary'].max()]"
   ]
  },
  {
   "cell_type": "code",
   "execution_count": 22,
   "metadata": {},
   "outputs": [
    {
     "data": {
      "text/html": [
       "<div>\n",
       "<style scoped>\n",
       "    .dataframe tbody tr th:only-of-type {\n",
       "        vertical-align: middle;\n",
       "    }\n",
       "\n",
       "    .dataframe tbody tr th {\n",
       "        vertical-align: top;\n",
       "    }\n",
       "\n",
       "    .dataframe thead th {\n",
       "        text-align: right;\n",
       "    }\n",
       "</style>\n",
       "<table border=\"1\" class=\"dataframe\">\n",
       "  <thead>\n",
       "    <tr style=\"text-align: right;\">\n",
       "      <th></th>\n",
       "      <th>name</th>\n",
       "      <th>surname</th>\n",
       "      <th>birth_year</th>\n",
       "      <th>sex</th>\n",
       "      <th>city</th>\n",
       "      <th>profession</th>\n",
       "      <th>experience</th>\n",
       "      <th>marital_status</th>\n",
       "      <th>children</th>\n",
       "      <th>hobbies</th>\n",
       "      <th>sport_flag</th>\n",
       "      <th>sport_description</th>\n",
       "      <th>sport_frequency_week</th>\n",
       "      <th>car</th>\n",
       "      <th>schooling</th>\n",
       "      <th>age</th>\n",
       "      <th>salary_minus_3y</th>\n",
       "      <th>salary_plus_3y</th>\n",
       "      <th>expected_salary</th>\n",
       "    </tr>\n",
       "  </thead>\n",
       "  <tbody>\n",
       "    <tr>\n",
       "      <th>1</th>\n",
       "      <td>Maria</td>\n",
       "      <td>Silva</td>\n",
       "      <td>1970</td>\n",
       "      <td>f</td>\n",
       "      <td>Santos</td>\n",
       "      <td>dona de casa</td>\n",
       "      <td>2</td>\n",
       "      <td>Casada</td>\n",
       "      <td>3</td>\n",
       "      <td>ver tv</td>\n",
       "      <td>False</td>\n",
       "      <td>-</td>\n",
       "      <td>0.0</td>\n",
       "      <td>não</td>\n",
       "      <td>ensino médio</td>\n",
       "      <td>50</td>\n",
       "      <td>1200</td>\n",
       "      <td>1200</td>\n",
       "      <td>1200</td>\n",
       "    </tr>\n",
       "    <tr>\n",
       "      <th>6</th>\n",
       "      <td>Vilma</td>\n",
       "      <td>Narsiza</td>\n",
       "      <td>1995</td>\n",
       "      <td>f</td>\n",
       "      <td>Minas Gerais</td>\n",
       "      <td>caixa de mercado</td>\n",
       "      <td>4</td>\n",
       "      <td>Solteira</td>\n",
       "      <td>4</td>\n",
       "      <td>barzinho com os amigos</td>\n",
       "      <td>True</td>\n",
       "      <td>crossfit</td>\n",
       "      <td>3.0</td>\n",
       "      <td>não</td>\n",
       "      <td>ensino médio</td>\n",
       "      <td>25</td>\n",
       "      <td>900</td>\n",
       "      <td>1200</td>\n",
       "      <td>1200</td>\n",
       "    </tr>\n",
       "  </tbody>\n",
       "</table>\n",
       "</div>"
      ],
      "text/plain": [
       "    name  surname  birth_year sex          city        profession  experience  \\\n",
       "1  Maria    Silva        1970   f        Santos      dona de casa           2   \n",
       "6  Vilma  Narsiza        1995   f  Minas Gerais  caixa de mercado           4   \n",
       "\n",
       "  marital_status  children                 hobbies sport_flag  \\\n",
       "1         Casada         3                  ver tv      False   \n",
       "6       Solteira         4  barzinho com os amigos       True   \n",
       "\n",
       "  sport_description  sport_frequency_week  car     schooling  age  \\\n",
       "1                 -                   0.0  não  ensino médio   50   \n",
       "6          crossfit                   3.0  não  ensino médio   25   \n",
       "\n",
       "   salary_minus_3y  salary_plus_3y  expected_salary  \n",
       "1             1200            1200             1200  \n",
       "6              900            1200             1200  "
      ]
     },
     "execution_count": 22,
     "metadata": {},
     "output_type": "execute_result"
    }
   ],
   "source": [
    "# Filtering the information of the person who has the lowest salary and is not unempoyed or a student\n",
    "register_with_salary[register_with_salary['expected_salary'] == \n",
    "                     register_with_salary[(register_with_salary['profession']!='desempregado')\n",
    "                                          &(register_with_salary['profession'] != 'estudante')]['expected_salary'].min()]"
   ]
  },
  {
   "cell_type": "markdown",
   "metadata": {},
   "source": [
    "### 6) Create a bar graph and show the schooling distribution in the register."
   ]
  },
  {
   "cell_type": "code",
   "execution_count": 23,
   "metadata": {},
   "outputs": [
    {
     "data": {
      "text/plain": [
       "<matplotlib.axes._subplots.AxesSubplot at 0x1a8e8613c10>"
      ]
     },
     "execution_count": 23,
     "metadata": {},
     "output_type": "execute_result"
    },
    {
     "data": {
      "image/png": "[encoded data removed]",
      "text/plain": [
       "<Figure size 432x288 with 1 Axes>"
      ]
     },
     "metadata": {
      "needs_background": "light"
     },
     "output_type": "display_data"
    }
   ],
   "source": [
    "frequency_schooling = register.schooling.value_counts()\n",
    "frequency_schooling.plot(kind='barh')"
   ]
  },
  {
   "cell_type": "markdown",
   "metadata": {},
   "source": [
    "### 7) Create a graph showing the relationship between schooling and who practices sport.\n"
   ]
  },
  {
   "cell_type": "code",
   "execution_count": 24,
   "metadata": {},
   "outputs": [
    {
     "data": {
      "text/plain": [
       "<matplotlib.axes._subplots.AxesSubplot at 0x1a8e8d3c460>"
      ]
     },
     "execution_count": 24,
     "metadata": {},
     "output_type": "execute_result"
    },
    {
     "data": {
      "image/png": "[encoded data removed]",
      "text/plain": [
       "<Figure size 432x288 with 1 Axes>"
      ]
     },
     "metadata": {
      "needs_background": "light"
     },
     "output_type": "display_data"
    }
   ],
   "source": [
    "pd.crosstab(register.schooling,register.sport_flag).plot(kind=\"barh\")"
   ]
  },
  {
   "cell_type": "markdown",
   "metadata": {},
   "source": [
    "### 8) How many people like to walk on the weekend?"
   ]
  },
  {
   "cell_type": "code",
   "execution_count": 53,
   "metadata": {},
   "outputs": [
    {
     "data": {
      "text/html": [
       "<div>\n",
       "<style scoped>\n",
       "    .dataframe tbody tr th:only-of-type {\n",
       "        vertical-align: middle;\n",
       "    }\n",
       "\n",
       "    .dataframe tbody tr th {\n",
       "        vertical-align: top;\n",
       "    }\n",
       "\n",
       "    .dataframe thead th {\n",
       "        text-align: right;\n",
       "    }\n",
       "</style>\n",
       "<table border=\"1\" class=\"dataframe\">\n",
       "  <thead>\n",
       "    <tr style=\"text-align: right;\">\n",
       "      <th></th>\n",
       "      <th>count_occurrences</th>\n",
       "    </tr>\n",
       "    <tr>\n",
       "      <th>hobbie</th>\n",
       "      <th></th>\n",
       "    </tr>\n",
       "  </thead>\n",
       "  <tbody>\n",
       "    <tr>\n",
       "      <th>caminhar</th>\n",
       "      <td>4.0</td>\n",
       "    </tr>\n",
       "  </tbody>\n",
       "</table>\n",
       "</div>"
      ],
      "text/plain": [
       "          count_occurrences\n",
       "hobbie                     \n",
       "caminhar                4.0"
      ]
     },
     "execution_count": 53,
     "metadata": {},
     "output_type": "execute_result"
    }
   ],
   "source": [
    "hobbies = register.hobbies.str.lower().str.replace('\\n', ' ')\n",
    "hobbies_2 = pd.DataFrame(\n",
    "                hobbies.apply(lambda x: pd.value_counts(x.split(\" \"))).sum(axis = 0)\n",
    "            ).reset_index()\n",
    "\n",
    "hobbies_2.columns = ['hobbie', 'count_occurrences']\n",
    "hobbies_2['hobbie'] = hobbies_2['hobbie'].str.strip(',').str.strip(\".\")\n",
    "hobbies_2 = hobbies_2[(hobbies_2['hobbie'] == \"caminhar\")].groupby('hobbie').sum()\n",
    "hobbies_2\n",
    "#hobbies_2[(hobbies_2['hobbie'] == \"caminhar\")]"
   ]
  },
  {
   "cell_type": "markdown",
   "metadata": {},
   "source": [
    "### 9) Create a heat map\n"
   ]
  },
  {
   "cell_type": "code",
   "execution_count": 71,
   "metadata": {},
   "outputs": [
    {
     "data": {
      "image/png": "[encoded data removed]",
      "text/plain": [
       "<Figure size 504x360 with 2 Axes>"
      ]
     },
     "metadata": {},
     "output_type": "display_data"
    }
   ],
   "source": [
    "selection = register_with_salary[[\"experience\", \"children\", \"sport_frequency_week\", \"age\", \"expected_salary\"]].dropna()\n",
    "corr = selection.corr()\n",
    "mask = np.zeros_like(corr)\n",
    "mask[np.triu_indices_from(mask)] = True\n",
    "with sns.axes_style(\"white\"):\n",
    "    f, ax = plt.subplots(figsize=(7, 5))\n",
    "    ax = sns.heatmap(corr, mask=mask, vmax=.3, square=True)"
   ]
  },
  {
   "cell_type": "markdown",
   "metadata": {},
   "source": [
    "### 10) Graphically show how many people are in each state."
   ]
  },
  {
   "cell_type": "code",
   "execution_count": 72,
   "metadata": {},
   "outputs": [
    {
     "data": {
      "text/plain": [
       "<matplotlib.axes._subplots.AxesSubplot at 0x1a8eb988340>"
      ]
     },
     "execution_count": 72,
     "metadata": {},
     "output_type": "execute_result"
    },
    {
     "data": {
      "image/png": "[encoded data removed]",
      "text/plain": [
       "<Figure size 432x288 with 1 Axes>"
      ]
     },
     "metadata": {
      "needs_background": "light"
     },
     "output_type": "display_data"
    }
   ],
   "source": [
    "state_dict = {\n",
    "    \"São Vicente\": \"São Paulo\",\n",
    "    \"São Caetano\": \"São Paulo\",\n",
    "    \"Monte Alto\": \"São Paulo\",\n",
    "    \"Aparecida\": \"São Paulo\",\n",
    "    \"Vitória\": \"Espírito Santo\",\n",
    "    \"Santo Andre\": \"São Paulo\",\n",
    "    \"Santos\": \"São Paulo\",\n",
    "    \"Fortaleza\": \"Ceará\"}\n",
    "states = register.city.replace(state_dict).value_counts()\n",
    "states.plot(kind='barh')"
   ]
  }
 ],
 "metadata": {
  "kernelspec": {
   "display_name": "Python 3",
   "language": "python",
   "name": "python3"
  },
  "language_info": {
   "codemirror_mode": {
    "name": "ipython",
    "version": 3
   },
   "file_extension": ".py",
   "mimetype": "text/x-python",
   "name": "python",
   "nbconvert_exporter": "python",
   "pygments_lexer": "ipython3",
   "version": "3.8.3"
  }
 },
 "nbformat": 4,
 "nbformat_minor": 4
}
