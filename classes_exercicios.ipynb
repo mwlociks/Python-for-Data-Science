{
 "cells": [
  {
   "cell_type": "markdown",
   "metadata": {},
   "source": [
    "<center><h2>Classes\n",
    "</center>\n",
    "<center><h4>Resolução de exercícios no fim\n",
    "</center>"
   ]
  },
  {
   "cell_type": "markdown",
   "metadata": {},
   "source": [
    "Em orientação a objeto, temos um conceito chamado classes. Classes tem a função de representar a realidade fisica para dentro de uma modelagem de sistema. Em classes, temos conceictos como: metodos, atributos e herança. Esses conceitos são importantes para continuação do nosso aprendizado.\n",
    "\n",
    "<b>class:</b> é necessaria para se declarar uma classe.\n",
    "<b>def:</b> é uma palavra reservada usada para delimitar o inicio de um metodo.\n",
    "<b>():</b> temos as variaveis que até aqui são chamadas de parametros do metodo.\n",
    "<b>self:</b> funciona como um atributo que informa que o parametro será usado no escopo daquele determinado metodo."
   ]
  },
  {
   "cell_type": "code",
   "execution_count": 3,
   "metadata": {},
   "outputs": [],
   "source": [
    "#exemplo 01: criando uma classe\n",
    "\n",
    "class Pessoa:\n",
    "    def __init__(self, nome, idade):\n",
    "        self.nome = nome\n",
    "        self.idade = idade\n",
    "     \n",
    "    def setNome(self, nome):\n",
    "        self.nome = nome\n",
    "        print(\"Seu nome\")\n",
    "     \n",
    "    def setIdade(self, idade):\n",
    "        self.idade = idade\n",
    "     \n",
    "    def getNome(self):\n",
    "        return self.nome\n",
    "         \n",
    "    def getIdade(self):\n",
    "        return self.idade"
   ]
  },
  {
   "cell_type": "code",
   "execution_count": 4,
   "metadata": {},
   "outputs": [
    {
     "data": {
      "text/plain": [
       "35"
      ]
     },
     "execution_count": 4,
     "metadata": {},
     "output_type": "execute_result"
    }
   ],
   "source": [
    "pessoa = Pessoa('Thiago', 35)\n",
    "pessoa.getIdade()"
   ]
  },
  {
   "cell_type": "code",
   "execution_count": 5,
   "metadata": {},
   "outputs": [
    {
     "data": {
      "text/plain": [
       "34"
      ]
     },
     "execution_count": 5,
     "metadata": {},
     "output_type": "execute_result"
    }
   ],
   "source": [
    "pessoa.setIdade(34)\n",
    "pessoa.getIdade()"
   ]
  },
  {
   "cell_type": "markdown",
   "metadata": {},
   "source": [
    "<b>Herança:</b> Basicamente, dizemos que a herança ocorre quando uma classe (filha) herda características e métodos de uma outra classe (pai), mas não impede de que a classe filha possua seus próprios métodos e atributos.\n",
    "\n",
    "<b>Observação: </b> Um ponto super importante para entendermos aqui. Como estamos trabalhando dentro do mesmo arquivo não tempos a necessidade de importar o pacote onde a classe pai esta em questão, porem quando queremos chamar ou herdar uma classe que esta em outro pacote, temos que antes realizar a importação do arquivo. Ex: <i><b>from pessoa import Pessoa</b></i>"
   ]
  },
  {
   "cell_type": "code",
   "execution_count": 6,
   "metadata": {},
   "outputs": [],
   "source": [
    "#exemplo02: Criando uma classe com herança:\n",
    "\n",
    "class PessoaFisica(Pessoa):\n",
    "   def __init__(self, CPF, nome, idade):\n",
    "       super().__init__(nome, idade)\n",
    "       self.CPF = CPF\n",
    "    \n",
    "   def getCPF(self):\n",
    "       return self.CPF\n",
    "    \n",
    "   def setCPF(self, CPF):\n",
    "       self.CPF = CPF"
   ]
  },
  {
   "cell_type": "code",
   "execution_count": 8,
   "metadata": {},
   "outputs": [
    {
     "data": {
      "text/plain": [
       "'Thiago Rolemberg'"
      ]
     },
     "execution_count": 8,
     "metadata": {},
     "output_type": "execute_result"
    }
   ],
   "source": [
    "pf = PessoaFisica(32,\"Thiago Rolemberg\",33333)\n",
    "pf.getNome()"
   ]
  },
  {
   "cell_type": "markdown",
   "metadata": {},
   "source": [
    "<b>Exercicio:</b> O desafio agora funcionará da seguinte forma, vamos continuar na feira. Crie uma classe Fruta (essa será a classe pai) inclua nela os metodos que são pertinentes a ela. Cria 2 classes filhas: Banana e Maça, ambas devem herdar da classe pai. Alem das informações basicas, a classe pai tem que ter um metodo de preço"
   ]
  },
  {
   "cell_type": "code",
   "execution_count": 29,
   "metadata": {},
   "outputs": [],
   "source": [
    "class Fruta:\n",
    "    def __init__(self, amadurecimento, consumo, preco):\n",
    "        self.amadurecimento = amadurecimento\n",
    "        self.consumo = consumo\n",
    "        self.preco = preco\n",
    "     \n",
    "    def setAmadurecimento(self, amadurecimento):\n",
    "        self.amadurecimento = amadurecimento\n",
    "     \n",
    "    def setConsumo(self, consumo):\n",
    "        self.consumo = consumo\n",
    "    \n",
    "    def setPreco(self, preco):\n",
    "        self.preco = preco\n",
    "    \n",
    "    def getAmadurecimento(self):\n",
    "        return self.amadurecimento\n",
    "         \n",
    "    def getConsumo(self):\n",
    "        return self.consumo\n",
    "\n",
    "    def getPreco(self):\n",
    "        return self.preco\n",
    "    \n",
    "    def amadurecer(self):\n",
    "        self.amadurecimento = \"madura\"\n",
    " \n",
    "    def apodrecer(self):\n",
    "        self.amadurecimento = \"podre\"\n",
    "        \n",
    "    def consumir(self):\n",
    "        self.consumo = \"consumida\"    "
   ]
  },
  {
   "cell_type": "code",
   "execution_count": 30,
   "metadata": {},
   "outputs": [
    {
     "data": {
      "text/plain": [
       "'verde'"
      ]
     },
     "execution_count": 30,
     "metadata": {},
     "output_type": "execute_result"
    }
   ],
   "source": [
    "fruta = Fruta(\"verde\", \"não consumida\", \"2\")\n",
    "fruta.getAmadurecimento()"
   ]
  },
  {
   "cell_type": "code",
   "execution_count": 37,
   "metadata": {},
   "outputs": [
    {
     "data": {
      "text/plain": [
       "'podre'"
      ]
     },
     "execution_count": 37,
     "metadata": {},
     "output_type": "execute_result"
    }
   ],
   "source": [
    "fruta.apodrecer()\n",
    "fruta.getAmadurecimento()"
   ]
  },
  {
   "cell_type": "code",
   "execution_count": 34,
   "metadata": {},
   "outputs": [],
   "source": [
    "class Banana(Fruta):\n",
    "    def __init__(self, amadurecimento, consumo, preco, descascada):\n",
    "        super().__init__(amadurecimento, consumo, preco)\n",
    "        self.descascada = descascada\n",
    "    \n",
    "    def setDescascada(self, descascada):\n",
    "        self.descascada = descascada\n",
    "    \n",
    "    def getDescascada(self):\n",
    "        return self.descascada\n",
    "    \n",
    "    def descascar(self):\n",
    "        self.descascada = \"descascada\""
   ]
  },
  {
   "cell_type": "code",
   "execution_count": 35,
   "metadata": {},
   "outputs": [
    {
     "data": {
      "text/plain": [
       "'verde'"
      ]
     },
     "execution_count": 35,
     "metadata": {},
     "output_type": "execute_result"
    }
   ],
   "source": [
    "banana = Banana(\"verde\", \"não consumida\", 2, \"não descascada\")\n",
    "banana.getAmadurecimento()"
   ]
  },
  {
   "cell_type": "code",
   "execution_count": 38,
   "metadata": {},
   "outputs": [
    {
     "data": {
      "text/plain": [
       "'madura'"
      ]
     },
     "execution_count": 38,
     "metadata": {},
     "output_type": "execute_result"
    }
   ],
   "source": [
    "banana.amadurecer()\n",
    "banana.getAmadurecimento()"
   ]
  },
  {
   "cell_type": "code",
   "execution_count": 39,
   "metadata": {},
   "outputs": [
    {
     "data": {
      "text/plain": [
       "'descascada'"
      ]
     },
     "execution_count": 39,
     "metadata": {},
     "output_type": "execute_result"
    }
   ],
   "source": [
    "banana.descascar()\n",
    "banana.getDescascada()"
   ]
  },
  {
   "cell_type": "code",
   "execution_count": 40,
   "metadata": {},
   "outputs": [
    {
     "data": {
      "text/plain": [
       "'consumida'"
      ]
     },
     "execution_count": 40,
     "metadata": {},
     "output_type": "execute_result"
    }
   ],
   "source": [
    "banana.consumir()\n",
    "banana.getConsumo()"
   ]
  },
  {
   "cell_type": "code",
   "execution_count": 41,
   "metadata": {},
   "outputs": [],
   "source": [
    "class Maca(Fruta):\n",
    "    def __init__(self, amadurecimento, consumo, preco, lavada):\n",
    "        super().__init__(amadurecimento, consumo, preco)\n",
    "        self.lavada = lavada\n",
    "    \n",
    "    def setLavada(self, lavada):\n",
    "        self.lavada = lavada\n",
    "    \n",
    "    def getLavada(self):\n",
    "        return self.lavada\n",
    "    \n",
    "    def lavar(self):\n",
    "        self.lavada = \"lavada\""
   ]
  },
  {
   "cell_type": "code",
   "execution_count": 48,
   "metadata": {},
   "outputs": [],
   "source": [
    "maca = Maca(\"verde\", \"não consumida\", 2, \"suja\")"
   ]
  },
  {
   "cell_type": "code",
   "execution_count": 49,
   "metadata": {},
   "outputs": [
    {
     "data": {
      "text/plain": [
       "'madura'"
      ]
     },
     "execution_count": 49,
     "metadata": {},
     "output_type": "execute_result"
    }
   ],
   "source": [
    "maca.amadurecer()\n",
    "maca.getAmadurecimento()"
   ]
  },
  {
   "cell_type": "code",
   "execution_count": 50,
   "metadata": {},
   "outputs": [
    {
     "data": {
      "text/plain": [
       "'lavada'"
      ]
     },
     "execution_count": 50,
     "metadata": {},
     "output_type": "execute_result"
    }
   ],
   "source": [
    "maca.lavar()\n",
    "maca.getLavada()"
   ]
  },
  {
   "cell_type": "code",
   "execution_count": 51,
   "metadata": {},
   "outputs": [
    {
     "data": {
      "text/plain": [
       "'consumida'"
      ]
     },
     "execution_count": 51,
     "metadata": {},
     "output_type": "execute_result"
    }
   ],
   "source": [
    "maca.consumir()\n",
    "maca.getConsumo()"
   ]
  },
  {
   "cell_type": "markdown",
   "metadata": {},
   "source": [
    "<b>Exercício: </b> construa um carro com 5 portas, cor rosa e 4 rodas"
   ]
  },
  {
   "cell_type": "code",
   "execution_count": 8,
   "metadata": {},
   "outputs": [
    {
     "name": "stdout",
     "output_type": "stream",
     "text": [
      "Tempos 4 rodas, 4 portas e a cor é rosa\n"
     ]
    },
    {
     "data": {
      "text/plain": [
       "'vermelho'"
      ]
     },
     "execution_count": 8,
     "metadata": {},
     "output_type": "execute_result"
    }
   ],
   "source": [
    "class Carro:\n",
    "    porta = 0\n",
    "    cor = \"\"\n",
    "    roda = 0\n",
    "    \n",
    "    def __init__(self, porta, cor, roda):\n",
    "        self.porta = porta\n",
    "        self.cor = cor\n",
    "        self.roda = roda\n",
    "        print(\"Tempos\",roda,\"rodas,\", porta,\"portas e a cor é\",cor)\n",
    "    \n",
    "    def mudar_cor(self, nova_cor):\n",
    "        self.cor = nova_cor\n",
    "\n",
    "marie_cor = Carro(4, \"rosa\", 4)\n",
    "marie_cor.mudar_cor(\"vermelho\")\n",
    "marie_cor.cor"
   ]
  },
  {
   "cell_type": "markdown",
   "metadata": {},
   "source": [
    "<b>Exercício: </b> construa uma calculadora"
   ]
  },
  {
   "cell_type": "code",
   "execution_count": 44,
   "metadata": {},
   "outputs": [],
   "source": [
    "class Calculadora:\n",
    "    \n",
    "    def __init__(self):\n",
    "        print(\"Calculadora iniciada\")\n",
    "    \n",
    "    def soma(self, valor_1, valor_2):\n",
    "        return valor_1 + valor_2\n",
    "    \n",
    "    def subtracao(self, valor_1, valor_2):\n",
    "        return valor_1 - valor_2\n",
    "\n",
    "    def divisao(self, valor_1, valor_2):\n",
    "        try:\n",
    "            resultado = valor_1 / valor_2\n",
    "            return resultado\n",
    "        except:\n",
    "            print(\"Selecione novos valores, divisão por zero não existe.\")\n",
    "\n",
    "    def multiplicacao(self, valor_1, valor_2):\n",
    "        return valor_1 * valor_2"
   ]
  },
  {
   "cell_type": "code",
   "execution_count": 46,
   "metadata": {},
   "outputs": [
    {
     "name": "stdout",
     "output_type": "stream",
     "text": [
      "Calculadora iniciada\n",
      "Selecione novos valores, divisão por zero não existe.\n"
     ]
    }
   ],
   "source": [
    "calc = Calculadora()\n",
    "v1 = calc.soma(1,2)\n",
    "v2 = calc.soma(0,0)\n",
    "v4 = calc.divisao(v1,v2)"
   ]
  }
 ],
 "metadata": {
  "kernelspec": {
   "display_name": "Python 3",
   "language": "python",
   "name": "python3"
  },
  "language_info": {
   "codemirror_mode": {
    "name": "ipython",
    "version": 3
   },
   "file_extension": ".py",
   "mimetype": "text/x-python",
   "name": "python",
   "nbconvert_exporter": "python",
   "pygments_lexer": "ipython3",
   "version": "3.8.3"
  }
 },
 "nbformat": 4,
 "nbformat_minor": 4
}
