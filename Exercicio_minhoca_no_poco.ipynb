{
 "cells": [
  {
   "cell_type": "markdown",
   "metadata": {},
   "source": [
    "# Exercício da minhoca no poço"
   ]
  },
  {
   "cell_type": "markdown",
   "metadata": {},
   "source": [
    "Minhoca no poço (10 m). De dia a minhoca sobe 2m, de noite a minhoca desce 1m. Em quantos dias a minhoca sai do poço?"
   ]
  },
  {
   "cell_type": "code",
   "execution_count": 73,
   "metadata": {},
   "outputs": [],
   "source": [
    "class Jornada_da_minhoca:\n",
    "    profundidade = 10\n",
    "    \n",
    "    def __init__(self):\n",
    "        print(\"A minhoca iniciou sua jornada para sair do poço!\")\n",
    "    \n",
    "    def dia(self):\n",
    "        self.profundidade -= 2\n",
    "        return self.profundidade\n",
    "    \n",
    "    def noite(self):\n",
    "        self.profundidade += 1\n",
    "        return self.profundidade\n",
    "\n",
    "    def duracao_da_jornada(self):\n",
    "        dias = 0\n",
    "        noites = 0\n",
    "        while (self.profundidade > 0):\n",
    "            self.dia()\n",
    "            dias += 1\n",
    "            if (self.profundidade <= 0):\n",
    "                break\n",
    "            else:\n",
    "                self.noite()\n",
    "                noites += 1\n",
    "            \n",
    "        return dias, noites"
   ]
  },
  {
   "cell_type": "code",
   "execution_count": 74,
   "metadata": {},
   "outputs": [
    {
     "name": "stdout",
     "output_type": "stream",
     "text": [
      "A minhoca iniciou sua jornada para sair do poço!\n"
     ]
    },
    {
     "data": {
      "text/plain": [
       "(9, 8)"
      ]
     },
     "execution_count": 74,
     "metadata": {},
     "output_type": "execute_result"
    }
   ],
   "source": [
    "jm = Jornada_da_minhoca()\n",
    "jm.duracao_da_jornada()"
   ]
  },
  {
   "cell_type": "markdown",
   "metadata": {},
   "source": [
    "A minhoca demorou 9 dias e 8 noites para sair do poço."
   ]
  },
  {
   "cell_type": "code",
   "execution_count": null,
   "metadata": {},
   "outputs": [],
   "source": []
  }
 ],
 "metadata": {
  "kernelspec": {
   "display_name": "Python 3",
   "language": "python",
   "name": "python3"
  },
  "language_info": {
   "codemirror_mode": {
    "name": "ipython",
    "version": 3
   },
   "file_extension": ".py",
   "mimetype": "text/x-python",
   "name": "python",
   "nbconvert_exporter": "python",
   "pygments_lexer": "ipython3",
   "version": "3.8.3"
  }
 },
 "nbformat": 4,
 "nbformat_minor": 4
}
