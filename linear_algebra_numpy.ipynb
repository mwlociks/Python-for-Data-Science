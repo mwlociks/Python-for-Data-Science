{
 "cells": [
  {
   "cell_type": "markdown",
   "metadata": {},
   "source": [
    "<center><h1>Numpy exercises</center>"
   ]
  },
  {
   "cell_type": "code",
   "execution_count": 1,
   "metadata": {},
   "outputs": [],
   "source": [
    "import numpy as np"
   ]
  },
  {
   "cell_type": "markdown",
   "metadata": {},
   "source": [
    "### Exercise 1"
   ]
  },
  {
   "cell_type": "markdown",
   "metadata": {},
   "source": [
    "Write the function to read_matrix () below."
   ]
  },
  {
   "cell_type": "code",
   "execution_count": 37,
   "metadata": {},
   "outputs": [],
   "source": [
    "#-----------------------------------------------------\n",
    "def read_matrix(lines, columns):\n",
    "    '''(None) -> matrix (list of lists)\n",
    "\n",
    "    Function that reads from the keyboard the number n_lines of lines\n",
    "    and the number n_columns of columns and the elements of\n",
    "    an array of integers dimension n_line x n_columns.\n",
    "\n",
    "    The function creates and returns the read matrix.\n",
    "    '''\n",
    "    matrix = np.empty((lines,columns))\n",
    "    \n",
    "    for line in range(lines):\n",
    "        for column in range(columns):\n",
    "            string = \"Enter the element (\"+str(line)+\", \"+str(column)+\"): \"\n",
    "            matrix[line, column] = input(string)\n",
    "        print(\"matrix: \", matrix[0:(line+1)])\n",
    "        \n",
    "    return matrix\n",
    "#-----------------------------------------------------"
   ]
  },
  {
   "cell_type": "code",
   "execution_count": 38,
   "metadata": {},
   "outputs": [
    {
     "name": "stdout",
     "output_type": "stream",
     "text": [
      "Enter the element (0, 0): 1\n",
      "Enter the element (0, 1): 2\n",
      "Enter the element (0, 2): 3\n",
      "Enter the element (0, 3): 4\n",
      "Enter the element (0, 4): 5\n",
      "matrix:  [[1. 2. 3. 4. 5.]]\n",
      "Enter the element (1, 0): 10\n",
      "Enter the element (1, 1): 9\n",
      "Enter the element (1, 2): 8\n",
      "Enter the element (1, 3): 7\n",
      "Enter the element (1, 4): 6\n",
      "matrix:  [[ 1.  2.  3.  4.  5.]\n",
      " [10.  9.  8.  7.  6.]]\n",
      "Enter the element (2, 0): 11\n",
      "Enter the element (2, 1): 12\n",
      "Enter the element (2, 2): 13\n",
      "Enter the element (2, 3): 14\n",
      "Enter the element (2, 4): 15\n",
      "matrix:  [[ 1.  2.  3.  4.  5.]\n",
      " [10.  9.  8.  7.  6.]\n",
      " [11. 12. 13. 14. 15.]]\n"
     ]
    },
    {
     "data": {
      "text/plain": [
       "array([[ 1.,  2.,  3.,  4.,  5.],\n",
       "       [10.,  9.,  8.,  7.,  6.],\n",
       "       [11., 12., 13., 14., 15.]])"
      ]
     },
     "execution_count": 38,
     "metadata": {},
     "output_type": "execute_result"
    }
   ],
   "source": [
    "read_matrix(3,5)"
   ]
  },
  {
   "cell_type": "markdown",
   "metadata": {},
   "source": [
    "### Exercise 2\n",
    "Write the function a below:"
   ]
  },
  {
   "cell_type": "code",
   "execution_count": 17,
   "metadata": {},
   "outputs": [],
   "source": [
    "#-----------------------------------------------------\n",
    "def print_matrix(matrix):\n",
    "    '''(matrix) -> None\n",
    "    Receives and prints a matrix of integers.\n",
    "    >>> a = [[1,2,3],[2,1,4],[3,4,1]]\n",
    "    >>> a\n",
    "    [[1, 2, 3], [2, 1, 4], [3, 4, 1]]\n",
    "    >>> print_matrix(a)\n",
    "    Matrix: 3 x 3\n",
    "         1     2     3\n",
    "         2     1     4\n",
    "         3     4     1\n",
    "    '''\n",
    "    matrix = np.array(matrix)\n",
    "    print(\"Matrix\", matrix.shape[0], \"x\", matrix.shape[1])\n",
    "    for line in range(matrix.shape[0]):\n",
    "        for column in range(matrix.shape[1]):\n",
    "            print(\"     \", matrix[line, column], end = \"\")\n",
    "            if column == matrix.shape[1]-1:\n",
    "                print(\"\\n\")\n",
    "#-----------------------------------------------------"
   ]
  },
  {
   "cell_type": "code",
   "execution_count": 18,
   "metadata": {},
   "outputs": [
    {
     "data": {
      "text/plain": [
       "[[1, 2, 3], [2, 1, 4], [3, 4, 1]]"
      ]
     },
     "execution_count": 18,
     "metadata": {},
     "output_type": "execute_result"
    }
   ],
   "source": [
    "a = [[1,2,3],[2,1,4],[3,4,1]]\n",
    "a"
   ]
  },
  {
   "cell_type": "code",
   "execution_count": 19,
   "metadata": {},
   "outputs": [
    {
     "name": "stdout",
     "output_type": "stream",
     "text": [
      "Matrix 3 x 3\n",
      "      1      2      3\n",
      "\n",
      "      2      1      4\n",
      "\n",
      "      3      4      1\n",
      "\n"
     ]
    }
   ],
   "source": [
    "print_matrix(a)"
   ]
  },
  {
   "cell_type": "markdown",
   "metadata": {},
   "source": [
    "### Exercise 3\n",
    "Write the function a below:"
   ]
  },
  {
   "cell_type": "code",
   "execution_count": 36,
   "metadata": {},
   "outputs": [
    {
     "name": "stdout",
     "output_type": "stream",
     "text": [
      "Passou no primeiro teste! :-)\n"
     ]
    }
   ],
   "source": [
    "#-----------------------------------------------------\n",
    "def symmetric(matrix):\n",
    "    '''(matriz) -> bool\n",
    "    Receives a matrix and returns TRUE if the matrix is symmetric, otherwise it returns FALSE.\n",
    "    Prerequisite: the function assumes that the matrix is a square matrix.\n",
    "    >>> a = [[1,2,3],[2,1,4],[3,4,1]]\n",
    "    >>> symmetric(a)\n",
    "    True\n",
    "    '''\n",
    "    matrix = np.array(matrix)\n",
    "    matrix_t = matrix.T\n",
    "    test = (matrix == matrix_t).min()\n",
    "    return test\n",
    "\n",
    "#-----------------------------------------------------\n",
    "# testes\n",
    "a = [[11, -3, 4, 8], [-3, 12, 6, 11], [4, 6, 5, 13], [8, 11, 13, 5]]\n",
    "if symmetric(a):\n",
    "    print(\"Passou no primeiro teste! :-)\")\n",
    "else:\n",
    "    print(\"Nao passou no primeiro teste! :-(\")"
   ]
  },
  {
   "cell_type": "markdown",
   "metadata": {},
   "source": [
    "### Exercise 4\n",
    "Write a program that reads n and an array A of integers of dimension n x n, and checks if A is symmetric. Suggestions: use the functions read_matrix (), print_matrix () and symmetric () from previous exercises."
   ]
  },
  {
   "cell_type": "code",
   "execution_count": 41,
   "metadata": {},
   "outputs": [
    {
     "name": "stdout",
     "output_type": "stream",
     "text": [
      "Enter the matrix dimention (n): 2\n",
      "Enter the element (0, 0): 1\n",
      "Enter the element (0, 1): 0\n",
      "matrix:  [[1. 0.]]\n",
      "Enter the element (1, 0): 0\n",
      "Enter the element (1, 1): 1\n",
      "matrix:  [[1. 0.]\n",
      " [0. 1.]]\n",
      "Answer if the matrix is symmetric:  True\n"
     ]
    }
   ],
   "source": [
    "#-----------------------------------------------------\n",
    "def main():\n",
    "    '''\n",
    "    Reads n and receivers an array of integers of dimension n x n, and checks if A is symmetric.\n",
    "    '''\n",
    "    n = int(input(\"Enter the matrix dimention (n): \"))\n",
    "    matrix = read_matrix(n,n)\n",
    "    test = symmetric(matrix)\n",
    "    print(\"Answer if the matrix is symmetric: \", test)\n",
    "\n",
    "#-----------------------------------------------------\n",
    "if __name__ == '__main__':\n",
    "    main()"
   ]
  },
  {
   "cell_type": "markdown",
   "metadata": {},
   "source": [
    "### Exercise 5\n",
    "Write a program that reads positive integers m and n and the elements of a matrix A of integers of dimension m x n and counts the number of rows and columns that have only zeros."
   ]
  },
  {
   "cell_type": "code",
   "execution_count": 50,
   "metadata": {},
   "outputs": [
    {
     "name": "stdout",
     "output_type": "stream",
     "text": [
      "Enter the number of lines: 3\n",
      "Enter the number of columns: 4\n",
      "Enter the element (0, 0): 0\n",
      "Enter the element (0, 1): 0\n",
      "Enter the element (0, 2): 0\n",
      "Enter the element (0, 3): 0\n",
      "matrix:  [[0. 0. 0. 0.]]\n",
      "Enter the element (1, 0): 0\n",
      "Enter the element (1, 1): 1\n",
      "Enter the element (1, 2): 1\n",
      "Enter the element (1, 3): 1\n",
      "matrix:  [[0. 0. 0. 0.]\n",
      " [0. 1. 1. 1.]]\n",
      "Enter the element (2, 0): 0\n",
      "Enter the element (2, 1): 1\n",
      "Enter the element (2, 2): 1\n",
      "Enter the element (2, 3): 1\n",
      "matrix:  [[0. 0. 0. 0.]\n",
      " [0. 1. 1. 1.]\n",
      " [0. 1. 1. 1.]]\n",
      "There are  1  columns and  1  rows where all the elements are zeros.\n"
     ]
    }
   ],
   "source": [
    "def main():\n",
    "    '''\n",
    "    Reads positive integers m and n and the elements of a matrix (mxn) and counts the number of rows and columns that have only zeros.\n",
    "    '''\n",
    "    lines = int(input(\"Enter the number of lines: \"))\n",
    "    columns = int(input(\"Enter the number of columns: \"))\n",
    "    matrix = read_matrix(lines,columns)\n",
    "    \n",
    "    comparison = matrix == np.zeros((lines,columns))\n",
    "    \n",
    "    comparison_columns = (comparison.sum(axis=0) == lines).sum() # sum of each column\n",
    "    comparison_rows = (comparison.sum(axis=1) == columns).sum()     # sum of each row\n",
    "    \n",
    "    print(\"There are \", comparison_columns, \" columns and \", comparison_rows, \" rows where all the elements are zeros.\")\n",
    "\n",
    "#-----------------------------------------------\n",
    "if __name__ == '__main__':\n",
    "    main()"
   ]
  }
 ],
 "metadata": {
  "kernelspec": {
   "display_name": "Python 3",
   "language": "python",
   "name": "python3"
  },
  "language_info": {
   "codemirror_mode": {
    "name": "ipython",
    "version": 3
   },
   "file_extension": ".py",
   "mimetype": "text/x-python",
   "name": "python",
   "nbconvert_exporter": "python",
   "pygments_lexer": "ipython3",
   "version": "3.8.3"
  }
 },
 "nbformat": 4,
 "nbformat_minor": 4
}
